{
 "cells": [
  {
   "cell_type": "code",
   "execution_count": 1,
   "metadata": {},
   "outputs": [],
   "source": [
    "from tensorflow.keras.preprocessing.image import ImageDataGenerator\n"
   ]
  },
  {
   "cell_type": "code",
   "execution_count": 2,
   "metadata": {},
   "outputs": [],
   "source": [
    "train_datagen = ImageDataGenerator(rescale=1./255, zoom_range=0.25, horizontal_flip=True,vertical_flip=False,width_shift_range=0.2)"
   ]
  },
  {
   "cell_type": "code",
   "execution_count": 3,
   "metadata": {},
   "outputs": [],
   "source": [
    "test_datagen = ImageDataGenerator(rescale=1./255)"
   ]
  },
  {
   "cell_type": "code",
   "execution_count": 4,
   "metadata": {},
   "outputs": [
    {
     "name": "stdout",
     "output_type": "stream",
     "text": [
      "Found 15339 images belonging to 6 classes.\n"
     ]
    }
   ],
   "source": [
    "x_train = train_datagen.flow_from_directory(r'C:\\Users\\Srikanth\\Desktop\\python\\data\\train',target_size=(64,64), class_mode='categorical', batch_size=32)"
   ]
  },
  {
   "cell_type": "code",
   "execution_count": 5,
   "metadata": {},
   "outputs": [
    {
     "name": "stdout",
     "output_type": "stream",
     "text": [
      "Found 6825 images belonging to 6 classes.\n"
     ]
    }
   ],
   "source": [
    "x_test = test_datagen.flow_from_directory(r'C:\\Users\\Srikanth\\Desktop\\python\\data\\test',target_size=(64,64), class_mode='categorical', batch_size=32)"
   ]
  },
  {
   "cell_type": "code",
   "execution_count": 6,
   "metadata": {},
   "outputs": [],
   "source": [
    "from tensorflow.keras.models import Sequential\n",
    "from tensorflow.keras.layers import Convolution2D\n",
    "from tensorflow.keras.layers import MaxPooling2D\n",
    "from tensorflow.keras.layers import Flatten\n",
    "from tensorflow.keras.layers import Dense"
   ]
  },
  {
   "cell_type": "code",
   "execution_count": 7,
   "metadata": {},
   "outputs": [],
   "source": [
    "cg=Sequential()"
   ]
  },
  {
   "cell_type": "code",
   "execution_count": 8,
   "metadata": {},
   "outputs": [],
   "source": [
    "cg.add(Convolution2D(32,3,3,input_shape=(64,64,3),activation='relu'))"
   ]
  },
  {
   "cell_type": "code",
   "execution_count": 9,
   "metadata": {},
   "outputs": [],
   "source": [
    "cg.add(MaxPooling2D(pool_size=(2,2)))"
   ]
  },
  {
   "cell_type": "code",
   "execution_count": 10,
   "metadata": {},
   "outputs": [],
   "source": [
    "cg.add(Flatten())"
   ]
  },
  {
   "cell_type": "code",
   "execution_count": 11,
   "metadata": {},
   "outputs": [],
   "source": [
    "cg.add(Dense(units=128,kernel_initializer='random_uniform',activation='relu'))"
   ]
  },
  {
   "cell_type": "code",
   "execution_count": 12,
   "metadata": {},
   "outputs": [],
   "source": [
    "cg.add(Dense(units=6,activation=\"sigmoid\",kernel_initializer=\"random_uniform\"))"
   ]
  },
  {
   "cell_type": "code",
   "execution_count": 13,
   "metadata": {},
   "outputs": [],
   "source": [
    "cg.compile(optimizer=\"adam\",loss=\"categorical_crossentropy\",metrics=[\"accuracy\"])"
   ]
  },
  {
   "cell_type": "code",
   "execution_count": 14,
   "metadata": {},
   "outputs": [
    {
     "name": "stderr",
     "output_type": "stream",
     "text": [
      "C:\\Users\\Srikanth\\anaconda3\\lib\\site-packages\\tensorflow\\python\\keras\\engine\\training.py:1844: UserWarning: `Model.fit_generator` is deprecated and will be removed in a future version. Please use `Model.fit`, which supports generators.\n",
      "  warnings.warn('`Model.fit_generator` is deprecated and '\n"
     ]
    },
    {
     "name": "stdout",
     "output_type": "stream",
     "text": [
      "Epoch 1/200\n",
      "153/153 [==============================] - 266s 2s/step - loss: 1.4571 - accuracy: 0.4787 - val_loss: 1.6869 - val_accuracy: 0.3107\n",
      "Epoch 2/200\n",
      "153/153 [==============================] - 198s 1s/step - loss: 1.4167 - accuracy: 0.4745 - val_loss: 1.5259 - val_accuracy: 0.3272\n",
      "Epoch 3/200\n",
      "153/153 [==============================] - 99s 647ms/step - loss: 1.3145 - accuracy: 0.5052 - val_loss: 1.5190 - val_accuracy: 0.4665\n",
      "Epoch 4/200\n",
      "153/153 [==============================] - 61s 399ms/step - loss: 1.1333 - accuracy: 0.6102 - val_loss: 1.5064 - val_accuracy: 0.4779\n",
      "Epoch 5/200\n",
      "153/153 [==============================] - 41s 268ms/step - loss: 1.0976 - accuracy: 0.6269 - val_loss: 1.5790 - val_accuracy: 0.4563\n",
      "Epoch 6/200\n",
      "153/153 [==============================] - 35s 226ms/step - loss: 1.0478 - accuracy: 0.6574 - val_loss: 1.4475 - val_accuracy: 0.5005\n",
      "Epoch 7/200\n",
      "153/153 [==============================] - 32s 206ms/step - loss: 1.0289 - accuracy: 0.6538 - val_loss: 1.4676 - val_accuracy: 0.4802\n",
      "Epoch 8/200\n",
      "153/153 [==============================] - 30s 196ms/step - loss: 1.0155 - accuracy: 0.6582 - val_loss: 1.4764 - val_accuracy: 0.4807\n",
      "Epoch 9/200\n",
      "153/153 [==============================] - 30s 196ms/step - loss: 0.9748 - accuracy: 0.6713 - val_loss: 1.5310 - val_accuracy: 0.4660\n",
      "Epoch 10/200\n",
      "153/153 [==============================] - 33s 218ms/step - loss: 0.9751 - accuracy: 0.6677 - val_loss: 1.4809 - val_accuracy: 0.4917\n",
      "Epoch 11/200\n",
      "153/153 [==============================] - 32s 208ms/step - loss: 0.9281 - accuracy: 0.6911 - val_loss: 1.3899 - val_accuracy: 0.5092\n",
      "Epoch 12/200\n",
      "153/153 [==============================] - 35s 225ms/step - loss: 0.9117 - accuracy: 0.6949 - val_loss: 1.3100 - val_accuracy: 0.5179\n",
      "Epoch 13/200\n",
      "153/153 [==============================] - 31s 200ms/step - loss: 0.9175 - accuracy: 0.6921 - val_loss: 1.3281 - val_accuracy: 0.5156\n",
      "Epoch 14/200\n",
      "153/153 [==============================] - 32s 208ms/step - loss: 0.8708 - accuracy: 0.7158 - val_loss: 1.3973 - val_accuracy: 0.5207\n",
      "Epoch 15/200\n",
      "153/153 [==============================] - 46s 302ms/step - loss: 0.8865 - accuracy: 0.6967 - val_loss: 1.3740 - val_accuracy: 0.5262\n",
      "Epoch 16/200\n",
      "153/153 [==============================] - 75s 492ms/step - loss: 0.8798 - accuracy: 0.7039 - val_loss: 1.3208 - val_accuracy: 0.5299\n",
      "Epoch 17/200\n",
      "153/153 [==============================] - 113s 738ms/step - loss: 0.8316 - accuracy: 0.7157 - val_loss: 1.3162 - val_accuracy: 0.5312\n",
      "Epoch 18/200\n",
      "153/153 [==============================] - 72s 471ms/step - loss: 0.8356 - accuracy: 0.7116 - val_loss: 1.2740 - val_accuracy: 0.5460\n",
      "Epoch 19/200\n",
      "153/153 [==============================] - 53s 348ms/step - loss: 0.8094 - accuracy: 0.7291 - val_loss: 1.2464 - val_accuracy: 0.5464\n",
      "Epoch 20/200\n",
      "153/153 [==============================] - 39s 256ms/step - loss: 0.7981 - accuracy: 0.7244 - val_loss: 1.3422 - val_accuracy: 0.5253\n",
      "Epoch 21/200\n",
      "153/153 [==============================] - 35s 227ms/step - loss: 0.7693 - accuracy: 0.7464 - val_loss: 1.3012 - val_accuracy: 0.5358\n",
      "Epoch 22/200\n",
      "153/153 [==============================] - 34s 220ms/step - loss: 0.7739 - accuracy: 0.7419 - val_loss: 1.3374 - val_accuracy: 0.5267\n",
      "Epoch 23/200\n",
      "153/153 [==============================] - 33s 216ms/step - loss: 0.7581 - accuracy: 0.7423 - val_loss: 1.3307 - val_accuracy: 0.5225\n",
      "Epoch 24/200\n",
      "153/153 [==============================] - 30s 196ms/step - loss: 0.7036 - accuracy: 0.7638 - val_loss: 1.3459 - val_accuracy: 0.5377\n",
      "Epoch 25/200\n",
      "153/153 [==============================] - 29s 187ms/step - loss: 0.7309 - accuracy: 0.7513 - val_loss: 1.2711 - val_accuracy: 0.5657\n",
      "Epoch 26/200\n",
      "153/153 [==============================] - 28s 181ms/step - loss: 0.6960 - accuracy: 0.7649 - val_loss: 1.2508 - val_accuracy: 0.5630\n",
      "Epoch 27/200\n",
      "153/153 [==============================] - 28s 182ms/step - loss: 0.6965 - accuracy: 0.7652 - val_loss: 1.2800 - val_accuracy: 0.5662\n",
      "Epoch 28/200\n",
      "153/153 [==============================] - 27s 180ms/step - loss: 0.7102 - accuracy: 0.7563 - val_loss: 1.1993 - val_accuracy: 0.5795\n",
      "Epoch 29/200\n",
      "153/153 [==============================] - 28s 186ms/step - loss: 0.6916 - accuracy: 0.7712 - val_loss: 1.1773 - val_accuracy: 0.5933\n",
      "Epoch 30/200\n",
      "153/153 [==============================] - 28s 184ms/step - loss: 0.7053 - accuracy: 0.7604 - val_loss: 1.1724 - val_accuracy: 0.5832\n",
      "Epoch 31/200\n",
      "153/153 [==============================] - 28s 182ms/step - loss: 0.6942 - accuracy: 0.7673 - val_loss: 1.1703 - val_accuracy: 0.6029\n",
      "Epoch 32/200\n",
      "153/153 [==============================] - 28s 184ms/step - loss: 0.6845 - accuracy: 0.7724 - val_loss: 1.1122 - val_accuracy: 0.6006\n",
      "Epoch 33/200\n",
      "153/153 [==============================] - 27s 176ms/step - loss: 0.6831 - accuracy: 0.7749 - val_loss: 1.1052 - val_accuracy: 0.6186\n",
      "Epoch 34/200\n",
      "153/153 [==============================] - 27s 177ms/step - loss: 0.6581 - accuracy: 0.7898 - val_loss: 1.1018 - val_accuracy: 0.6131\n",
      "Epoch 35/200\n",
      "153/153 [==============================] - 27s 174ms/step - loss: 0.6090 - accuracy: 0.7962 - val_loss: 1.0588 - val_accuracy: 0.6268\n",
      "Epoch 36/200\n",
      "153/153 [==============================] - 27s 176ms/step - loss: 0.6497 - accuracy: 0.7848 - val_loss: 1.0512 - val_accuracy: 0.6369\n",
      "Epoch 37/200\n",
      "153/153 [==============================] - 27s 174ms/step - loss: 0.6353 - accuracy: 0.7871 - val_loss: 1.1043 - val_accuracy: 0.6153\n",
      "Epoch 38/200\n",
      "153/153 [==============================] - 27s 174ms/step - loss: 0.5862 - accuracy: 0.8081 - val_loss: 1.1141 - val_accuracy: 0.6158\n",
      "Epoch 39/200\n",
      "153/153 [==============================] - 27s 175ms/step - loss: 0.6059 - accuracy: 0.8023 - val_loss: 1.0724 - val_accuracy: 0.6365\n",
      "Epoch 40/200\n",
      "153/153 [==============================] - 27s 174ms/step - loss: 0.6002 - accuracy: 0.8135 - val_loss: 1.0584 - val_accuracy: 0.6457\n",
      "Epoch 41/200\n",
      "153/153 [==============================] - 27s 176ms/step - loss: 0.5834 - accuracy: 0.8063 - val_loss: 1.0384 - val_accuracy: 0.6351\n",
      "Epoch 42/200\n",
      "153/153 [==============================] - 28s 180ms/step - loss: 0.6258 - accuracy: 0.7951 - val_loss: 1.0647 - val_accuracy: 0.6585\n",
      "Epoch 43/200\n",
      "153/153 [==============================] - 28s 180ms/step - loss: 0.6016 - accuracy: 0.7964 - val_loss: 1.0356 - val_accuracy: 0.6383\n",
      "Epoch 44/200\n",
      "153/153 [==============================] - 28s 181ms/step - loss: 0.5850 - accuracy: 0.7976 - val_loss: 1.1030 - val_accuracy: 0.6291\n",
      "Epoch 45/200\n",
      "153/153 [==============================] - 28s 182ms/step - loss: 0.5867 - accuracy: 0.8042 - val_loss: 1.0480 - val_accuracy: 0.6402\n",
      "Epoch 46/200\n",
      "153/153 [==============================] - 29s 187ms/step - loss: 0.5693 - accuracy: 0.8157 - val_loss: 1.0307 - val_accuracy: 0.6645\n",
      "Epoch 47/200\n",
      "153/153 [==============================] - 29s 188ms/step - loss: 0.5761 - accuracy: 0.8079 - val_loss: 1.0433 - val_accuracy: 0.6466\n",
      "Epoch 48/200\n",
      "153/153 [==============================] - 29s 188ms/step - loss: 0.6076 - accuracy: 0.8117 - val_loss: 1.0130 - val_accuracy: 0.6411\n",
      "Epoch 49/200\n",
      "153/153 [==============================] - 28s 185ms/step - loss: 0.5611 - accuracy: 0.8206 - val_loss: 1.0887 - val_accuracy: 0.6388\n",
      "Epoch 50/200\n",
      "153/153 [==============================] - 29s 190ms/step - loss: 0.5580 - accuracy: 0.8119 - val_loss: 1.0167 - val_accuracy: 0.6489\n",
      "Epoch 51/200\n",
      "153/153 [==============================] - 41s 269ms/step - loss: 0.5406 - accuracy: 0.8174 - val_loss: 0.9721 - val_accuracy: 0.6710\n",
      "Epoch 52/200\n",
      "153/153 [==============================] - 35s 226ms/step - loss: 0.5691 - accuracy: 0.8102 - val_loss: 1.0059 - val_accuracy: 0.6530\n",
      "Epoch 53/200\n",
      "153/153 [==============================] - 30s 195ms/step - loss: 0.5403 - accuracy: 0.8274 - val_loss: 1.0376 - val_accuracy: 0.6700\n",
      "Epoch 54/200\n",
      "153/153 [==============================] - 28s 184ms/step - loss: 0.5249 - accuracy: 0.8231 - val_loss: 0.9926 - val_accuracy: 0.6751\n",
      "Epoch 55/200\n",
      "153/153 [==============================] - 31s 202ms/step - loss: 0.5590 - accuracy: 0.8210 - val_loss: 1.0361 - val_accuracy: 0.6608\n",
      "Epoch 56/200\n",
      "153/153 [==============================] - 31s 199ms/step - loss: 0.5089 - accuracy: 0.8399 - val_loss: 1.0292 - val_accuracy: 0.6756\n"
     ]
    },
    {
     "name": "stdout",
     "output_type": "stream",
     "text": [
      "Epoch 57/200\n",
      "153/153 [==============================] - 30s 196ms/step - loss: 0.5375 - accuracy: 0.8256 - val_loss: 0.9570 - val_accuracy: 0.6820\n",
      "Epoch 58/200\n",
      "153/153 [==============================] - 33s 216ms/step - loss: 0.5118 - accuracy: 0.8294 - val_loss: 1.0072 - val_accuracy: 0.6664\n",
      "Epoch 59/200\n",
      "153/153 [==============================] - 29s 193ms/step - loss: 0.5187 - accuracy: 0.8303 - val_loss: 1.0420 - val_accuracy: 0.6434\n",
      "Epoch 60/200\n",
      "153/153 [==============================] - 30s 194ms/step - loss: 0.4890 - accuracy: 0.8434 - val_loss: 0.9943 - val_accuracy: 0.6857\n",
      "Epoch 61/200\n",
      "153/153 [==============================] - 66s 432ms/step - loss: 0.4962 - accuracy: 0.8326 - val_loss: 0.9731 - val_accuracy: 0.6866\n",
      "Epoch 62/200\n",
      "153/153 [==============================] - 48s 316ms/step - loss: 0.5015 - accuracy: 0.8358 - val_loss: 1.0368 - val_accuracy: 0.6558\n",
      "Epoch 63/200\n",
      "153/153 [==============================] - 37s 241ms/step - loss: 0.5260 - accuracy: 0.8316 - val_loss: 1.0049 - val_accuracy: 0.6958\n",
      "Epoch 64/200\n",
      "153/153 [==============================] - 31s 201ms/step - loss: 0.4537 - accuracy: 0.8609 - val_loss: 0.9908 - val_accuracy: 0.6774\n",
      "Epoch 65/200\n",
      "153/153 [==============================] - 29s 188ms/step - loss: 0.4889 - accuracy: 0.8532 - val_loss: 0.8713 - val_accuracy: 0.6994\n",
      "Epoch 66/200\n",
      "153/153 [==============================] - 28s 186ms/step - loss: 0.4833 - accuracy: 0.8416 - val_loss: 0.9818 - val_accuracy: 0.6921\n",
      "Epoch 67/200\n",
      "153/153 [==============================] - 29s 188ms/step - loss: 0.4442 - accuracy: 0.8562 - val_loss: 0.9729 - val_accuracy: 0.6999\n",
      "Epoch 68/200\n",
      "153/153 [==============================] - 28s 182ms/step - loss: 0.4683 - accuracy: 0.8558 - val_loss: 0.9669 - val_accuracy: 0.7132\n",
      "Epoch 69/200\n",
      "153/153 [==============================] - 28s 182ms/step - loss: 0.4581 - accuracy: 0.8515 - val_loss: 0.9059 - val_accuracy: 0.7027\n",
      "Epoch 70/200\n",
      "153/153 [==============================] - 27s 177ms/step - loss: 0.4745 - accuracy: 0.8467 - val_loss: 0.9181 - val_accuracy: 0.6962\n",
      "Epoch 71/200\n",
      "153/153 [==============================] - 27s 176ms/step - loss: 0.4410 - accuracy: 0.8591 - val_loss: 1.0093 - val_accuracy: 0.6801\n",
      "Epoch 72/200\n",
      "153/153 [==============================] - 27s 176ms/step - loss: 0.4340 - accuracy: 0.8642 - val_loss: 0.9959 - val_accuracy: 0.6834\n",
      "Epoch 73/200\n",
      "153/153 [==============================] - 28s 180ms/step - loss: 0.4223 - accuracy: 0.8675 - val_loss: 0.9266 - val_accuracy: 0.6857\n",
      "Epoch 74/200\n",
      "153/153 [==============================] - 28s 185ms/step - loss: 0.4379 - accuracy: 0.8594 - val_loss: 0.9132 - val_accuracy: 0.7063\n",
      "Epoch 75/200\n",
      "153/153 [==============================] - 29s 188ms/step - loss: 0.4598 - accuracy: 0.8480 - val_loss: 0.9363 - val_accuracy: 0.6962\n",
      "Epoch 76/200\n",
      "153/153 [==============================] - 27s 177ms/step - loss: 0.4451 - accuracy: 0.8576 - val_loss: 0.9267 - val_accuracy: 0.7091\n",
      "Epoch 77/200\n",
      "153/153 [==============================] - 26s 172ms/step - loss: 0.4769 - accuracy: 0.8467 - val_loss: 0.9147 - val_accuracy: 0.6990\n",
      "Epoch 78/200\n",
      "153/153 [==============================] - 28s 184ms/step - loss: 0.4566 - accuracy: 0.8545 - val_loss: 0.8554 - val_accuracy: 0.7165\n",
      "Epoch 79/200\n",
      "153/153 [==============================] - 29s 187ms/step - loss: 0.4608 - accuracy: 0.8556 - val_loss: 0.8835 - val_accuracy: 0.7036\n",
      "Epoch 80/200\n",
      "153/153 [==============================] - 28s 181ms/step - loss: 0.4148 - accuracy: 0.8653 - val_loss: 0.9231 - val_accuracy: 0.6953\n",
      "Epoch 81/200\n",
      "153/153 [==============================] - 28s 181ms/step - loss: 0.3996 - accuracy: 0.8782 - val_loss: 0.8101 - val_accuracy: 0.7413\n",
      "Epoch 82/200\n",
      "153/153 [==============================] - 29s 188ms/step - loss: 0.4457 - accuracy: 0.8598 - val_loss: 0.8765 - val_accuracy: 0.7036\n",
      "Epoch 83/200\n",
      "153/153 [==============================] - 28s 182ms/step - loss: 0.3929 - accuracy: 0.8728 - val_loss: 0.8588 - val_accuracy: 0.7197\n",
      "Epoch 84/200\n",
      "153/153 [==============================] - 28s 184ms/step - loss: 0.4226 - accuracy: 0.8686 - val_loss: 0.8504 - val_accuracy: 0.7266\n",
      "Epoch 85/200\n",
      "153/153 [==============================] - 28s 182ms/step - loss: 0.4148 - accuracy: 0.8581 - val_loss: 0.8448 - val_accuracy: 0.7335\n",
      "Epoch 86/200\n",
      "153/153 [==============================] - 28s 181ms/step - loss: 0.4026 - accuracy: 0.8720 - val_loss: 0.8679 - val_accuracy: 0.7252\n",
      "Epoch 87/200\n",
      "153/153 [==============================] - 28s 182ms/step - loss: 0.4145 - accuracy: 0.8661 - val_loss: 0.8224 - val_accuracy: 0.7321\n",
      "Epoch 88/200\n",
      "153/153 [==============================] - 29s 188ms/step - loss: 0.4037 - accuracy: 0.8763 - val_loss: 0.8385 - val_accuracy: 0.7293\n",
      "Epoch 89/200\n",
      "153/153 [==============================] - 28s 183ms/step - loss: 0.3992 - accuracy: 0.8785 - val_loss: 0.9311 - val_accuracy: 0.7096\n",
      "Epoch 90/200\n",
      "153/153 [==============================] - 29s 187ms/step - loss: 0.4034 - accuracy: 0.8817 - val_loss: 0.8804 - val_accuracy: 0.7362\n",
      "Epoch 91/200\n",
      "153/153 [==============================] - 30s 198ms/step - loss: 0.4219 - accuracy: 0.8663 - val_loss: 0.8296 - val_accuracy: 0.7316\n",
      "Epoch 92/200\n",
      "153/153 [==============================] - 28s 182ms/step - loss: 0.4145 - accuracy: 0.8786 - val_loss: 0.8543 - val_accuracy: 0.7068\n",
      "Epoch 93/200\n",
      "153/153 [==============================] - 28s 180ms/step - loss: 0.3849 - accuracy: 0.8805 - val_loss: 0.9143 - val_accuracy: 0.7188\n",
      "Epoch 94/200\n",
      "153/153 [==============================] - 28s 184ms/step - loss: 0.3949 - accuracy: 0.8702 - val_loss: 0.8572 - val_accuracy: 0.7284\n",
      "Epoch 95/200\n",
      "153/153 [==============================] - 28s 182ms/step - loss: 0.4380 - accuracy: 0.8667 - val_loss: 0.8295 - val_accuracy: 0.7390\n",
      "Epoch 96/200\n",
      "153/153 [==============================] - 28s 182ms/step - loss: 0.3926 - accuracy: 0.8791 - val_loss: 0.8498 - val_accuracy: 0.7312\n",
      "Epoch 97/200\n",
      "153/153 [==============================] - 28s 183ms/step - loss: 0.4023 - accuracy: 0.8767 - val_loss: 0.8051 - val_accuracy: 0.7500\n",
      "Epoch 98/200\n",
      "153/153 [==============================] - 28s 182ms/step - loss: 0.3794 - accuracy: 0.8783 - val_loss: 0.7757 - val_accuracy: 0.7638\n",
      "Epoch 99/200\n",
      "153/153 [==============================] - 28s 185ms/step - loss: 0.3908 - accuracy: 0.8790 - val_loss: 0.8542 - val_accuracy: 0.7206\n",
      "Epoch 100/200\n",
      "153/153 [==============================] - 30s 194ms/step - loss: 0.3684 - accuracy: 0.8782 - val_loss: 0.7820 - val_accuracy: 0.7569\n",
      "Epoch 101/200\n",
      "153/153 [==============================] - 28s 186ms/step - loss: 0.3878 - accuracy: 0.8758 - val_loss: 0.7872 - val_accuracy: 0.7256\n",
      "Epoch 102/200\n",
      "153/153 [==============================] - 28s 183ms/step - loss: 0.4037 - accuracy: 0.8756 - val_loss: 0.8542 - val_accuracy: 0.7344\n",
      "Epoch 103/200\n",
      "153/153 [==============================] - 29s 192ms/step - loss: 0.3712 - accuracy: 0.8788 - val_loss: 0.8420 - val_accuracy: 0.7165\n",
      "Epoch 104/200\n",
      "153/153 [==============================] - 28s 181ms/step - loss: 0.4069 - accuracy: 0.8708 - val_loss: 0.7920 - val_accuracy: 0.7592\n",
      "Epoch 105/200\n",
      "153/153 [==============================] - 27s 177ms/step - loss: 0.3672 - accuracy: 0.8878 - val_loss: 0.8119 - val_accuracy: 0.7509\n",
      "Epoch 106/200\n",
      "153/153 [==============================] - 28s 183ms/step - loss: 0.4033 - accuracy: 0.8810 - val_loss: 0.8378 - val_accuracy: 0.7316\n",
      "Epoch 107/200\n",
      "153/153 [==============================] - 30s 197ms/step - loss: 0.3847 - accuracy: 0.8907 - val_loss: 0.7747 - val_accuracy: 0.7528\n",
      "Epoch 108/200\n",
      "153/153 [==============================] - 29s 190ms/step - loss: 0.3786 - accuracy: 0.8849 - val_loss: 0.7885 - val_accuracy: 0.7459\n",
      "Epoch 109/200\n",
      "153/153 [==============================] - 29s 192ms/step - loss: 0.3863 - accuracy: 0.8744 - val_loss: 0.7655 - val_accuracy: 0.7638\n",
      "Epoch 110/200\n",
      "153/153 [==============================] - 37s 243ms/step - loss: 0.3372 - accuracy: 0.8934 - val_loss: 0.7511 - val_accuracy: 0.7707\n",
      "Epoch 111/200\n",
      "153/153 [==============================] - 32s 208ms/step - loss: 0.3667 - accuracy: 0.8832 - val_loss: 0.7678 - val_accuracy: 0.7624\n",
      "Epoch 112/200\n",
      "153/153 [==============================] - 29s 186ms/step - loss: 0.3584 - accuracy: 0.8892 - val_loss: 0.6943 - val_accuracy: 0.7661\n",
      "Epoch 113/200\n",
      "153/153 [==============================] - 28s 183ms/step - loss: 0.3411 - accuracy: 0.8859 - val_loss: 0.7053 - val_accuracy: 0.7734\n",
      "Epoch 114/200\n",
      "153/153 [==============================] - 28s 182ms/step - loss: 0.3353 - accuracy: 0.8979 - val_loss: 0.7363 - val_accuracy: 0.7707\n",
      "Epoch 115/200\n",
      "153/153 [==============================] - 28s 182ms/step - loss: 0.3450 - accuracy: 0.8894 - val_loss: 0.7330 - val_accuracy: 0.7564\n",
      "Epoch 116/200\n",
      "153/153 [==============================] - 27s 179ms/step - loss: 0.3552 - accuracy: 0.8866 - val_loss: 0.7424 - val_accuracy: 0.7569\n",
      "Epoch 117/200\n",
      "153/153 [==============================] - 28s 185ms/step - loss: 0.3618 - accuracy: 0.8827 - val_loss: 0.8159 - val_accuracy: 0.7436\n",
      "Epoch 118/200\n",
      "153/153 [==============================] - 27s 180ms/step - loss: 0.3779 - accuracy: 0.8802 - val_loss: 0.7664 - val_accuracy: 0.7564\n",
      "Epoch 119/200\n",
      "153/153 [==============================] - 28s 181ms/step - loss: 0.3730 - accuracy: 0.8848 - val_loss: 0.7309 - val_accuracy: 0.7629\n",
      "Epoch 120/200\n",
      "153/153 [==============================] - 27s 180ms/step - loss: 0.3433 - accuracy: 0.8915 - val_loss: 0.7063 - val_accuracy: 0.7711\n",
      "Epoch 121/200\n",
      "153/153 [==============================] - 28s 185ms/step - loss: 0.3374 - accuracy: 0.8997 - val_loss: 0.8115 - val_accuracy: 0.7555\n",
      "Epoch 122/200\n",
      "153/153 [==============================] - 28s 186ms/step - loss: 0.3202 - accuracy: 0.9043 - val_loss: 0.7659 - val_accuracy: 0.7495\n",
      "Epoch 123/200\n",
      "153/153 [==============================] - 29s 187ms/step - loss: 0.3654 - accuracy: 0.8867 - val_loss: 0.7423 - val_accuracy: 0.7624\n",
      "Epoch 124/200\n",
      "153/153 [==============================] - 29s 187ms/step - loss: 0.3055 - accuracy: 0.9019 - val_loss: 0.7817 - val_accuracy: 0.7564\n",
      "Epoch 125/200\n",
      "153/153 [==============================] - 30s 193ms/step - loss: 0.3277 - accuracy: 0.9003 - val_loss: 0.7693 - val_accuracy: 0.7560\n",
      "Epoch 126/200\n",
      "153/153 [==============================] - 30s 193ms/step - loss: 0.3511 - accuracy: 0.8921 - val_loss: 0.7857 - val_accuracy: 0.7551\n",
      "Epoch 127/200\n",
      "153/153 [==============================] - 29s 189ms/step - loss: 0.3612 - accuracy: 0.8858 - val_loss: 0.7853 - val_accuracy: 0.7656\n",
      "Epoch 128/200\n",
      "153/153 [==============================] - 29s 187ms/step - loss: 0.3371 - accuracy: 0.8933 - val_loss: 0.7263 - val_accuracy: 0.7523\n",
      "Epoch 129/200\n",
      "153/153 [==============================] - 29s 189ms/step - loss: 0.3466 - accuracy: 0.8893 - val_loss: 0.7391 - val_accuracy: 0.7610\n",
      "Epoch 130/200\n",
      "153/153 [==============================] - 29s 187ms/step - loss: 0.3156 - accuracy: 0.9055 - val_loss: 0.6971 - val_accuracy: 0.7670\n",
      "Epoch 131/200\n",
      "153/153 [==============================] - 30s 195ms/step - loss: 0.3157 - accuracy: 0.9016 - val_loss: 0.7500 - val_accuracy: 0.7693\n",
      "Epoch 132/200\n",
      "153/153 [==============================] - 29s 190ms/step - loss: 0.3341 - accuracy: 0.8953 - val_loss: 0.7753 - val_accuracy: 0.7505\n",
      "Epoch 133/200\n",
      "153/153 [==============================] - 28s 184ms/step - loss: 0.3245 - accuracy: 0.8951 - val_loss: 0.7926 - val_accuracy: 0.7555\n",
      "Epoch 134/200\n",
      "153/153 [==============================] - 28s 181ms/step - loss: 0.3478 - accuracy: 0.8832 - val_loss: 0.7205 - val_accuracy: 0.7601\n",
      "Epoch 135/200\n",
      "153/153 [==============================] - 28s 182ms/step - loss: 0.3497 - accuracy: 0.8903 - val_loss: 0.7315 - val_accuracy: 0.7551\n",
      "Epoch 136/200\n",
      "153/153 [==============================] - 28s 181ms/step - loss: 0.3386 - accuracy: 0.8964 - val_loss: 0.7255 - val_accuracy: 0.7647\n",
      "Epoch 137/200\n",
      "153/153 [==============================] - 28s 181ms/step - loss: 0.3504 - accuracy: 0.8941 - val_loss: 0.7405 - val_accuracy: 0.7638\n",
      "Epoch 138/200\n",
      "153/153 [==============================] - 28s 182ms/step - loss: 0.3350 - accuracy: 0.9001 - val_loss: 0.6812 - val_accuracy: 0.7771\n",
      "Epoch 139/200\n",
      "153/153 [==============================] - 27s 178ms/step - loss: 0.3385 - accuracy: 0.9005 - val_loss: 0.6236 - val_accuracy: 0.7900\n",
      "Epoch 140/200\n",
      "153/153 [==============================] - 28s 182ms/step - loss: 0.3605 - accuracy: 0.8893 - val_loss: 0.7136 - val_accuracy: 0.7767\n",
      "Epoch 141/200\n",
      "153/153 [==============================] - 27s 179ms/step - loss: 0.3336 - accuracy: 0.8962 - val_loss: 0.7509 - val_accuracy: 0.7555\n",
      "Epoch 142/200\n",
      "153/153 [==============================] - 28s 181ms/step - loss: 0.3354 - accuracy: 0.8982 - val_loss: 0.7760 - val_accuracy: 0.7560\n",
      "Epoch 143/200\n",
      "153/153 [==============================] - 28s 182ms/step - loss: 0.3456 - accuracy: 0.9001 - val_loss: 0.6282 - val_accuracy: 0.7927\n",
      "Epoch 144/200\n",
      "153/153 [==============================] - 28s 184ms/step - loss: 0.3148 - accuracy: 0.9003 - val_loss: 0.7311 - val_accuracy: 0.7799\n",
      "Epoch 145/200\n",
      "153/153 [==============================] - 30s 197ms/step - loss: 0.2998 - accuracy: 0.9061 - val_loss: 0.6929 - val_accuracy: 0.7854\n",
      "Epoch 146/200\n",
      "153/153 [==============================] - 30s 195ms/step - loss: 0.3195 - accuracy: 0.9071 - val_loss: 0.6021 - val_accuracy: 0.7895\n",
      "Epoch 147/200\n",
      "153/153 [==============================] - 36s 236ms/step - loss: 0.3228 - accuracy: 0.8991 - val_loss: 0.6633 - val_accuracy: 0.7964\n",
      "Epoch 148/200\n",
      "153/153 [==============================] - 29s 192ms/step - loss: 0.3012 - accuracy: 0.8988 - val_loss: 0.6946 - val_accuracy: 0.7845\n",
      "Epoch 149/200\n",
      "153/153 [==============================] - 29s 188ms/step - loss: 0.3122 - accuracy: 0.9024 - val_loss: 0.6747 - val_accuracy: 0.7767\n",
      "Epoch 150/200\n",
      "153/153 [==============================] - 27s 175ms/step - loss: 0.2914 - accuracy: 0.9127 - val_loss: 0.6913 - val_accuracy: 0.7886\n",
      "Epoch 151/200\n",
      "153/153 [==============================] - 27s 177ms/step - loss: 0.3152 - accuracy: 0.9063 - val_loss: 0.7824 - val_accuracy: 0.7725\n",
      "Epoch 152/200\n",
      "153/153 [==============================] - 27s 176ms/step - loss: 0.3077 - accuracy: 0.9054 - val_loss: 0.6514 - val_accuracy: 0.8120\n",
      "Epoch 153/200\n",
      "153/153 [==============================] - 27s 179ms/step - loss: 0.3202 - accuracy: 0.9063 - val_loss: 0.6758 - val_accuracy: 0.8033\n",
      "Epoch 154/200\n",
      "153/153 [==============================] - 27s 177ms/step - loss: 0.3016 - accuracy: 0.9040 - val_loss: 0.7571 - val_accuracy: 0.7744\n",
      "Epoch 155/200\n",
      "153/153 [==============================] - 29s 191ms/step - loss: 0.3330 - accuracy: 0.9022 - val_loss: 0.7222 - val_accuracy: 0.7881\n",
      "Epoch 156/200\n",
      "153/153 [==============================] - 28s 183ms/step - loss: 0.2887 - accuracy: 0.9080 - val_loss: 0.7592 - val_accuracy: 0.7886\n",
      "Epoch 157/200\n",
      "153/153 [==============================] - 28s 182ms/step - loss: 0.2657 - accuracy: 0.9096 - val_loss: 0.6677 - val_accuracy: 0.7973\n",
      "Epoch 158/200\n",
      "153/153 [==============================] - 29s 188ms/step - loss: 0.3089 - accuracy: 0.9100 - val_loss: 0.6593 - val_accuracy: 0.8111\n",
      "Epoch 159/200\n",
      "153/153 [==============================] - 29s 190ms/step - loss: 0.2541 - accuracy: 0.9220 - val_loss: 0.6194 - val_accuracy: 0.8019\n",
      "Epoch 160/200\n",
      "153/153 [==============================] - 28s 182ms/step - loss: 0.3052 - accuracy: 0.9087 - val_loss: 0.6676 - val_accuracy: 0.8056\n",
      "Epoch 161/200\n",
      "153/153 [==============================] - 29s 187ms/step - loss: 0.3085 - accuracy: 0.9049 - val_loss: 0.6591 - val_accuracy: 0.8097\n",
      "Epoch 162/200\n",
      "153/153 [==============================] - 28s 181ms/step - loss: 0.2990 - accuracy: 0.9099 - val_loss: 0.7216 - val_accuracy: 0.7923\n",
      "Epoch 163/200\n",
      "153/153 [==============================] - 28s 186ms/step - loss: 0.2885 - accuracy: 0.9080 - val_loss: 0.6714 - val_accuracy: 0.7895\n",
      "Epoch 164/200\n",
      "153/153 [==============================] - 29s 192ms/step - loss: 0.2714 - accuracy: 0.9126 - val_loss: 0.7471 - val_accuracy: 0.7693\n",
      "Epoch 165/200\n",
      "153/153 [==============================] - 32s 211ms/step - loss: 0.2876 - accuracy: 0.9136 - val_loss: 0.7113 - val_accuracy: 0.7858\n",
      "Epoch 166/200\n",
      "153/153 [==============================] - 30s 194ms/step - loss: 0.2812 - accuracy: 0.9115 - val_loss: 0.7188 - val_accuracy: 0.7670\n",
      "Epoch 167/200\n"
     ]
    },
    {
     "name": "stdout",
     "output_type": "stream",
     "text": [
      "153/153 [==============================] - 30s 195ms/step - loss: 0.2984 - accuracy: 0.9147 - val_loss: 0.7116 - val_accuracy: 0.7803\n",
      "Epoch 168/200\n",
      "153/153 [==============================] - 29s 190ms/step - loss: 0.2713 - accuracy: 0.9161 - val_loss: 0.7178 - val_accuracy: 0.7946\n",
      "Epoch 169/200\n",
      "153/153 [==============================] - 31s 202ms/step - loss: 0.2679 - accuracy: 0.9176 - val_loss: 0.6617 - val_accuracy: 0.8033\n",
      "Epoch 170/200\n",
      "153/153 [==============================] - 29s 191ms/step - loss: 0.2594 - accuracy: 0.9198 - val_loss: 0.7346 - val_accuracy: 0.7886\n",
      "Epoch 171/200\n",
      "153/153 [==============================] - 30s 193ms/step - loss: 0.2810 - accuracy: 0.9138 - val_loss: 0.7928 - val_accuracy: 0.7721\n",
      "Epoch 172/200\n",
      "153/153 [==============================] - 29s 190ms/step - loss: 0.3024 - accuracy: 0.9112 - val_loss: 0.7033 - val_accuracy: 0.7955\n",
      "Epoch 173/200\n",
      "153/153 [==============================] - 28s 180ms/step - loss: 0.2952 - accuracy: 0.9056 - val_loss: 0.7019 - val_accuracy: 0.7854\n",
      "Epoch 174/200\n",
      "153/153 [==============================] - 30s 195ms/step - loss: 0.3109 - accuracy: 0.9054 - val_loss: 0.7337 - val_accuracy: 0.7881\n",
      "Epoch 175/200\n",
      "153/153 [==============================] - 32s 210ms/step - loss: 0.2881 - accuracy: 0.9127 - val_loss: 0.6206 - val_accuracy: 0.8001\n",
      "Epoch 176/200\n",
      "153/153 [==============================] - 29s 191ms/step - loss: 0.2611 - accuracy: 0.9155 - val_loss: 0.7289 - val_accuracy: 0.7973\n",
      "Epoch 177/200\n",
      "153/153 [==============================] - 29s 190ms/step - loss: 0.2817 - accuracy: 0.9148 - val_loss: 0.7438 - val_accuracy: 0.7721\n",
      "Epoch 178/200\n",
      "153/153 [==============================] - 29s 188ms/step - loss: 0.2844 - accuracy: 0.9174 - val_loss: 0.7193 - val_accuracy: 0.7964\n",
      "Epoch 179/200\n",
      "153/153 [==============================] - 29s 187ms/step - loss: 0.2695 - accuracy: 0.9174 - val_loss: 0.7147 - val_accuracy: 0.7817\n",
      "Epoch 180/200\n",
      "153/153 [==============================] - 25s 160ms/step - loss: 0.2849 - accuracy: 0.9107 - val_loss: 0.7043 - val_accuracy: 0.7941\n",
      "Epoch 181/200\n",
      "153/153 [==============================] - 21s 138ms/step - loss: 0.2787 - accuracy: 0.9154 - val_loss: 0.6743 - val_accuracy: 0.7937\n",
      "Epoch 182/200\n",
      "153/153 [==============================] - 22s 141ms/step - loss: 0.2993 - accuracy: 0.9077 - val_loss: 0.6911 - val_accuracy: 0.7973\n",
      "Epoch 183/200\n",
      "153/153 [==============================] - 22s 141ms/step - loss: 0.2838 - accuracy: 0.9151 - val_loss: 0.7093 - val_accuracy: 0.7918\n",
      "Epoch 184/200\n",
      "153/153 [==============================] - 21s 140ms/step - loss: 0.2833 - accuracy: 0.9109 - val_loss: 0.6382 - val_accuracy: 0.7914\n",
      "Epoch 185/200\n",
      "153/153 [==============================] - 22s 146ms/step - loss: 0.2729 - accuracy: 0.9164 - val_loss: 0.6383 - val_accuracy: 0.8203\n",
      "Epoch 186/200\n",
      "153/153 [==============================] - 24s 155ms/step - loss: 0.2784 - accuracy: 0.9169 - val_loss: 0.6897 - val_accuracy: 0.7996\n",
      "Epoch 187/200\n",
      "153/153 [==============================] - 22s 140ms/step - loss: 0.2493 - accuracy: 0.9178 - val_loss: 0.6924 - val_accuracy: 0.7927\n",
      "Epoch 188/200\n",
      "153/153 [==============================] - 22s 142ms/step - loss: 0.2736 - accuracy: 0.9118 - val_loss: 0.6980 - val_accuracy: 0.7863\n",
      "Epoch 189/200\n",
      "153/153 [==============================] - 21s 140ms/step - loss: 0.2456 - accuracy: 0.9211 - val_loss: 0.7113 - val_accuracy: 0.8056\n",
      "Epoch 190/200\n",
      "153/153 [==============================] - 21s 139ms/step - loss: 0.2959 - accuracy: 0.9116 - val_loss: 0.6952 - val_accuracy: 0.7950\n",
      "Epoch 191/200\n",
      "153/153 [==============================] - 22s 144ms/step - loss: 0.2684 - accuracy: 0.9130 - val_loss: 0.6449 - val_accuracy: 0.8180\n",
      "Epoch 192/200\n",
      "153/153 [==============================] - 22s 144ms/step - loss: 0.2874 - accuracy: 0.9095 - val_loss: 0.6984 - val_accuracy: 0.7909\n",
      "Epoch 193/200\n",
      "153/153 [==============================] - 19s 122ms/step - loss: 0.2509 - accuracy: 0.9215 - val_loss: 0.6862 - val_accuracy: 0.8079\n",
      "Epoch 194/200\n",
      "153/153 [==============================] - 18s 120ms/step - loss: 0.2747 - accuracy: 0.9166 - val_loss: 0.7145 - val_accuracy: 0.7937\n",
      "Epoch 195/200\n",
      "153/153 [==============================] - 17s 114ms/step - loss: 0.2701 - accuracy: 0.9161 - val_loss: 0.6469 - val_accuracy: 0.8157\n",
      "Epoch 196/200\n",
      "153/153 [==============================] - 18s 115ms/step - loss: 0.2664 - accuracy: 0.9131 - val_loss: 0.6472 - val_accuracy: 0.8125\n",
      "Epoch 197/200\n",
      "153/153 [==============================] - 18s 115ms/step - loss: 0.2739 - accuracy: 0.9143 - val_loss: 0.7140 - val_accuracy: 0.7996\n",
      "Epoch 198/200\n",
      "153/153 [==============================] - 18s 116ms/step - loss: 0.2692 - accuracy: 0.9113 - val_loss: 0.6806 - val_accuracy: 0.8143\n",
      "Epoch 199/200\n",
      "153/153 [==============================] - 18s 121ms/step - loss: 0.2707 - accuracy: 0.9178 - val_loss: 0.6869 - val_accuracy: 0.8240\n",
      "Epoch 200/200\n",
      "153/153 [==============================] - 18s 117ms/step - loss: 0.2624 - accuracy: 0.9185 - val_loss: 0.6988 - val_accuracy: 0.8006\n"
     ]
    },
    {
     "data": {
      "text/plain": [
       "<tensorflow.python.keras.callbacks.History at 0x1435e7d1d90>"
      ]
     },
     "execution_count": 14,
     "metadata": {},
     "output_type": "execute_result"
    }
   ],
   "source": [
    "cg.fit_generator(x_train,steps_per_epoch=15339//100,epochs=200,validation_data=x_test,validation_steps=6825//100)"
   ]
  },
  {
   "cell_type": "code",
   "execution_count": 15,
   "metadata": {},
   "outputs": [],
   "source": [
    "cg.save('mymodel.h5')"
   ]
  },
  {
   "cell_type": "code",
   "execution_count": 16,
   "metadata": {},
   "outputs": [
    {
     "data": {
      "text/plain": [
       "{'Left Bundle Branch Block': 0,\n",
       " 'Normal': 1,\n",
       " 'Premature Atrial Contraction': 2,\n",
       " 'Premature Ventricular Contractions': 3,\n",
       " 'Right Bundle Branch Block': 4,\n",
       " 'Ventricular Fibrillation': 5}"
      ]
     },
     "execution_count": 16,
     "metadata": {},
     "output_type": "execute_result"
    }
   ],
   "source": [
    "x_train.class_indices"
   ]
  },
  {
   "cell_type": "code",
   "execution_count": 17,
   "metadata": {},
   "outputs": [],
   "source": [
    "import numpy as np\n",
    "from tensorflow.keras.models import load_model\n",
    "from tensorflow.keras.preprocessing import image"
   ]
  },
  {
   "cell_type": "code",
   "execution_count": 18,
   "metadata": {},
   "outputs": [],
   "source": [
    "model=load_model('mymodel.h5') #  h5 deep learning model extension"
   ]
  },
  {
   "cell_type": "code",
   "execution_count": 19,
   "metadata": {},
   "outputs": [],
   "source": [
    "img=image.load_img(r'C:\\Users\\Srikanth\\Desktop\\python\\data\\train\\Normal\\fig_1696.png', target_size=(64,64))"
   ]
  },
  {
   "cell_type": "code",
   "execution_count": 20,
   "metadata": {},
   "outputs": [],
   "source": [
    "x=image.img_to_array(img)"
   ]
  },
  {
   "cell_type": "code",
   "execution_count": 21,
   "metadata": {},
   "outputs": [
    {
     "data": {
      "text/plain": [
       "(64, 64, 3)"
      ]
     },
     "execution_count": 21,
     "metadata": {},
     "output_type": "execute_result"
    }
   ],
   "source": [
    "x.shape"
   ]
  },
  {
   "cell_type": "code",
   "execution_count": 22,
   "metadata": {},
   "outputs": [],
   "source": [
    "x=np.expand_dims(x,axis=0)"
   ]
  },
  {
   "cell_type": "code",
   "execution_count": 23,
   "metadata": {},
   "outputs": [
    {
     "data": {
      "text/plain": [
       "(1, 64, 64, 3)"
      ]
     },
     "execution_count": 23,
     "metadata": {},
     "output_type": "execute_result"
    }
   ],
   "source": [
    "x.shape"
   ]
  },
  {
   "cell_type": "code",
   "execution_count": 24,
   "metadata": {},
   "outputs": [
    {
     "name": "stderr",
     "output_type": "stream",
     "text": [
      "C:\\Users\\Srikanth\\anaconda3\\lib\\site-packages\\tensorflow\\python\\keras\\engine\\sequential.py:450: UserWarning: `model.predict_classes()` is deprecated and will be removed after 2021-01-01. Please use instead:* `np.argmax(model.predict(x), axis=-1)`,   if your model does multi-class classification   (e.g. if it uses a `softmax` last-layer activation).* `(model.predict(x) > 0.5).astype(\"int32\")`,   if your model does binary classification   (e.g. if it uses a `sigmoid` last-layer activation).\n",
      "  warnings.warn('`model.predict_classes()` is deprecated and '\n"
     ]
    }
   ],
   "source": [
    "a=model.predict_classes(x)"
   ]
  },
  {
   "cell_type": "code",
   "execution_count": 25,
   "metadata": {},
   "outputs": [
    {
     "data": {
      "text/plain": [
       "array([1], dtype=int64)"
      ]
     },
     "execution_count": 25,
     "metadata": {},
     "output_type": "execute_result"
    }
   ],
   "source": [
    "a"
   ]
  },
  {
   "cell_type": "code",
   "execution_count": 26,
   "metadata": {},
   "outputs": [],
   "source": [
    "index=['Left Bundle Branch Block','Normal','Premature Atrial Contraction','Premature Ventricular Contractions','Right Bundle Branch Block','Ventricular Fibrillation']"
   ]
  },
  {
   "cell_type": "code",
   "execution_count": 27,
   "metadata": {},
   "outputs": [],
   "source": [
    "result=str(index[a[0]])"
   ]
  },
  {
   "cell_type": "code",
   "execution_count": 28,
   "metadata": {},
   "outputs": [
    {
     "data": {
      "text/plain": [
       "'Normal'"
      ]
     },
     "execution_count": 28,
     "metadata": {},
     "output_type": "execute_result"
    }
   ],
   "source": [
    "result"
   ]
  },
  {
   "cell_type": "code",
   "execution_count": null,
   "metadata": {},
   "outputs": [],
   "source": []
  },
  {
   "cell_type": "code",
   "execution_count": null,
   "metadata": {},
   "outputs": [],
   "source": []
  },
  {
   "cell_type": "code",
   "execution_count": null,
   "metadata": {},
   "outputs": [],
   "source": []
  },
  {
   "cell_type": "code",
   "execution_count": null,
   "metadata": {},
   "outputs": [],
   "source": []
  },
  {
   "cell_type": "code",
   "execution_count": null,
   "metadata": {},
   "outputs": [],
   "source": []
  }
 ],
 "metadata": {
  "kernelspec": {
   "display_name": "Python 3",
   "language": "python",
   "name": "python3"
  },
  "language_info": {
   "codemirror_mode": {
    "name": "ipython",
    "version": 3
   },
   "file_extension": ".py",
   "mimetype": "text/x-python",
   "name": "python",
   "nbconvert_exporter": "python",
   "pygments_lexer": "ipython3",
   "version": "3.8.5"
  }
 },
 "nbformat": 4,
 "nbformat_minor": 4
}
